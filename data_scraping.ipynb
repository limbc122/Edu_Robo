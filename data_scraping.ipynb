{
 "cells": [
  {
   "cell_type": "code",
   "execution_count": 12,
   "metadata": {},
   "outputs": [],
   "source": [
    "import numpy as np\n",
    "import pandas as pd\n",
    "import matplotlib.pyplot as plt\n",
    "from urllib.request import urlopen, Request\n",
    "from bs4 import BeautifulSoup as bs"
   ]
  },
  {
   "cell_type": "code",
   "execution_count": 13,
   "metadata": {},
   "outputs": [],
   "source": [
    "html = urlopen('http://www.pythonscraping.com/pages/page1.html')"
   ]
  },
  {
   "cell_type": "code",
   "execution_count": 14,
   "metadata": {},
   "outputs": [],
   "source": [
    "soup = bs(html, 'html.parser')"
   ]
  },
  {
   "cell_type": "code",
   "execution_count": 15,
   "metadata": {},
   "outputs": [
    {
     "data": {
      "text/plain": [
       "<h1>An Interesting Title</h1>"
      ]
     },
     "execution_count": 15,
     "metadata": {},
     "output_type": "execute_result"
    }
   ],
   "source": [
    "soup.h1"
   ]
  },
  {
   "cell_type": "code",
   "execution_count": 19,
   "metadata": {},
   "outputs": [],
   "source": [
    "def get_html(ticker, gb):\n",
    "    url = []\n",
    "    url.append(\"https://comp.fnguide.com/SVO2/ASP/SVD_Finance.asp?pGB=1&gicode=A\" + ticker + \"&cID=&MenuYn=Y&ReportGB=&NewMenuID=103&stkGb=701\")\n",
    "    url.append(\"https://comp.fnguide.com/SVO2/ASP/SVD_FinanceRatio.asp?pGB=1&gicode=A\" + ticker + \"&cID=&MenuYn=Y&ReportGB=&NewMenuID=104&stkGb=701\")\n",
    "    url.append(\"https://comp.fnguide.com/SVO2/ASP/SVD_Invest.asp?pGB=1&gicode=A\" + ticker + \"&cID=&MenuYn=Y&ReportGB=&NewMenuID=105&stkGb=701\")\n",
    "    url.append(\"https://comp.fnguide.com/SVO2/ASP/SVD_Consensus.asp?pGB=1&gicode=A\" + ticker +\"&cID=&MenuYn=Y&ReportGB=&NewMenuID=108&stkGb=701\")\n",
    "    url = url[gb]\n",
    "\n",
    "    req = Request(url, headers={\"User-Agent\":'Mozila/5.0'})\n",
    "    html_text = urlopen(req).read()\n",
    "    return html_text"
   ]
  },
  {
   "cell_type": "code",
   "execution_count": 20,
   "metadata": {},
   "outputs": [],
   "source": [
    "def ext_fin(ticker, gb, item, n, freq='a'):\n",
    "    html_text = get_html(ticker, gb)\n",
    "    soup = bs(html_text, 'html.parser')\n",
    "    d = soup.findAll(text=item)\n",
    "    nlimt = 3 if gb == 0 else 4\n",
    "\n",
    "    if freq == 'a':\n",
    "        d = d[0].find_all_next(class_='r', limit=nlimt)\n",
    "    else:\n",
    "        d = d[1].find_all_next(class_='r', limit=nlimt)\n",
    "\n",
    "    data = d[(nlimt-n):nlimt]\n",
    "    v = [v.text for v in data]\n",
    "    return (v)"
   ]
  },
  {
   "cell_type": "code",
   "execution_count": 22,
   "metadata": {},
   "outputs": [
    {
     "data": {
      "text/plain": [
       "['190,601', '227,261', '421,867']"
      ]
     },
     "execution_count": 22,
     "metadata": {},
     "output_type": "execute_result"
    }
   ],
   "source": [
    "ext_fin('005930', 0, '당기순이익', 3)"
   ]
  },
  {
   "cell_type": "code",
   "execution_count": null,
   "metadata": {},
   "outputs": [],
   "source": []
  }
 ],
 "metadata": {
  "kernelspec": {
   "display_name": "Python 3",
   "language": "python",
   "name": "python3"
  },
  "language_info": {
   "codemirror_mode": {
    "name": "ipython",
    "version": 3
   },
   "file_extension": ".py",
   "mimetype": "text/x-python",
   "name": "python",
   "nbconvert_exporter": "python",
   "pygments_lexer": "ipython3",
   "version": "3.6.6"
  }
 },
 "nbformat": 4,
 "nbformat_minor": 2
}

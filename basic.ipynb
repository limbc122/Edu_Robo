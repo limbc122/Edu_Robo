{
 "cells": [
  {
   "cell_type": "code",
   "execution_count": 1,
   "metadata": {},
   "outputs": [],
   "source": [
    "import numpy as np"
   ]
  },
  {
   "cell_type": "code",
   "execution_count": 2,
   "metadata": {},
   "outputs": [],
   "source": [
    "stocks = [100,200,300,400]\n",
    "SV = np.array(stocks)"
   ]
  },
  {
   "cell_type": "code",
   "execution_count": 3,
   "metadata": {},
   "outputs": [
    {
     "data": {
      "text/plain": [
       "[100, 200, 300, 400]"
      ]
     },
     "execution_count": 3,
     "metadata": {},
     "output_type": "execute_result"
    }
   ],
   "source": [
    "stocks"
   ]
  },
  {
   "cell_type": "code",
   "execution_count": 4,
   "metadata": {},
   "outputs": [
    {
     "data": {
      "text/plain": [
       "list"
      ]
     },
     "execution_count": 4,
     "metadata": {},
     "output_type": "execute_result"
    }
   ],
   "source": [
    "type(stocks)"
   ]
  },
  {
   "cell_type": "code",
   "execution_count": 5,
   "metadata": {},
   "outputs": [
    {
     "data": {
      "text/plain": [
       "numpy.ndarray"
      ]
     },
     "execution_count": 5,
     "metadata": {},
     "output_type": "execute_result"
    }
   ],
   "source": [
    "type(SV)"
   ]
  },
  {
   "cell_type": "code",
   "execution_count": 6,
   "metadata": {},
   "outputs": [
    {
     "data": {
      "text/plain": [
       "array([100, 200, 300, 400])"
      ]
     },
     "execution_count": 6,
     "metadata": {},
     "output_type": "execute_result"
    }
   ],
   "source": [
    "SV"
   ]
  },
  {
   "cell_type": "code",
   "execution_count": 7,
   "metadata": {},
   "outputs": [
    {
     "data": {
      "text/plain": [
       "array([0, 1, 2, 3, 4, 5, 6, 7, 8, 9])"
      ]
     },
     "execution_count": 7,
     "metadata": {},
     "output_type": "execute_result"
    }
   ],
   "source": [
    "np.arange(10)"
   ]
  },
  {
   "cell_type": "code",
   "execution_count": 8,
   "metadata": {},
   "outputs": [],
   "source": [
    "a = np.array([[1,2,3],\n",
    "              [4,5,6],\n",
    "              [7,8,9]])"
   ]
  },
  {
   "cell_type": "code",
   "execution_count": 9,
   "metadata": {},
   "outputs": [
    {
     "data": {
      "text/plain": [
       "array([[1, 2, 3],\n",
       "       [4, 5, 6],\n",
       "       [7, 8, 9]])"
      ]
     },
     "execution_count": 9,
     "metadata": {},
     "output_type": "execute_result"
    }
   ],
   "source": [
    "a"
   ]
  },
  {
   "cell_type": "code",
   "execution_count": 10,
   "metadata": {},
   "outputs": [
    {
     "data": {
      "text/plain": [
       "(3, 3)"
      ]
     },
     "execution_count": 10,
     "metadata": {},
     "output_type": "execute_result"
    }
   ],
   "source": [
    "a.shape"
   ]
  },
  {
   "cell_type": "code",
   "execution_count": 11,
   "metadata": {},
   "outputs": [
    {
     "data": {
      "text/plain": [
       "2"
      ]
     },
     "execution_count": 11,
     "metadata": {},
     "output_type": "execute_result"
    }
   ],
   "source": [
    "a[0][1]"
   ]
  },
  {
   "cell_type": "code",
   "execution_count": 12,
   "metadata": {},
   "outputs": [
    {
     "data": {
      "text/plain": [
       "array([300, 400])"
      ]
     },
     "execution_count": 12,
     "metadata": {},
     "output_type": "execute_result"
    }
   ],
   "source": [
    "SV[2:4]"
   ]
  },
  {
   "cell_type": "code",
   "execution_count": 13,
   "metadata": {},
   "outputs": [
    {
     "data": {
      "text/plain": [
       "numpy.ndarray"
      ]
     },
     "execution_count": 13,
     "metadata": {},
     "output_type": "execute_result"
    }
   ],
   "source": [
    "type(SV[2:4])"
   ]
  },
  {
   "cell_type": "code",
   "execution_count": 14,
   "metadata": {},
   "outputs": [],
   "source": [
    "import pandas as pd"
   ]
  },
  {
   "cell_type": "code",
   "execution_count": 15,
   "metadata": {},
   "outputs": [
    {
     "data": {
      "text/plain": [
       "pandas.core.series.Series"
      ]
     },
     "execution_count": 15,
     "metadata": {},
     "output_type": "execute_result"
    }
   ],
   "source": [
    "new_series = pd.Series([10,20,30])\n",
    "type(new_series)"
   ]
  },
  {
   "cell_type": "code",
   "execution_count": 16,
   "metadata": {},
   "outputs": [],
   "source": [
    "Stocks1 = [\"Goog\", \"IBM\", \"Tesla\"]\n",
    "Stocks2 = [\"APPL\", \"Facebook\", \"IBM\"]\n",
    "\n",
    "S1 = pd.Series([100, 200, 300], index = Stocks1)\n",
    "S2 = pd.Series([300, 400, 500], index = Stocks2)"
   ]
  },
  {
   "cell_type": "code",
   "execution_count": 17,
   "metadata": {},
   "outputs": [
    {
     "data": {
      "text/plain": [
       "Goog     100\n",
       "IBM      200\n",
       "Tesla    300\n",
       "dtype: int64"
      ]
     },
     "execution_count": 17,
     "metadata": {},
     "output_type": "execute_result"
    }
   ],
   "source": [
    "S1"
   ]
  },
  {
   "cell_type": "code",
   "execution_count": 18,
   "metadata": {},
   "outputs": [
    {
     "data": {
      "text/plain": [
       "APPL        300\n",
       "Facebook    400\n",
       "IBM         500\n",
       "dtype: int64"
      ]
     },
     "execution_count": 18,
     "metadata": {},
     "output_type": "execute_result"
    }
   ],
   "source": [
    "S2"
   ]
  },
  {
   "cell_type": "code",
   "execution_count": 19,
   "metadata": {},
   "outputs": [
    {
     "data": {
      "text/plain": [
       "APPL          NaN\n",
       "Facebook      NaN\n",
       "Goog          NaN\n",
       "IBM         700.0\n",
       "Tesla         NaN\n",
       "dtype: float64"
      ]
     },
     "execution_count": 19,
     "metadata": {},
     "output_type": "execute_result"
    }
   ],
   "source": [
    "S1+S2"
   ]
  },
  {
   "cell_type": "code",
   "execution_count": 20,
   "metadata": {},
   "outputs": [
    {
     "data": {
      "text/plain": [
       "APPL         True\n",
       "Facebook     True\n",
       "Goog         True\n",
       "IBM         False\n",
       "Tesla        True\n",
       "dtype: bool"
      ]
     },
     "execution_count": 20,
     "metadata": {},
     "output_type": "execute_result"
    }
   ],
   "source": [
    "(S1+S2).isnull()"
   ]
  },
  {
   "cell_type": "code",
   "execution_count": 21,
   "metadata": {},
   "outputs": [
    {
     "data": {
      "text/plain": [
       "IBM    700.0\n",
       "dtype: float64"
      ]
     },
     "execution_count": 21,
     "metadata": {},
     "output_type": "execute_result"
    }
   ],
   "source": [
    "(S1+S2).dropna()"
   ]
  },
  {
   "cell_type": "code",
   "execution_count": 23,
   "metadata": {},
   "outputs": [
    {
     "data": {
      "text/plain": [
       "APPL        200.0\n",
       "Facebook    200.0\n",
       "Goog        200.0\n",
       "IBM         700.0\n",
       "Tesla       200.0\n",
       "dtype: float64"
      ]
     },
     "execution_count": 23,
     "metadata": {},
     "output_type": "execute_result"
    }
   ],
   "source": [
    "(S1+S2).fillna(200)"
   ]
  },
  {
   "cell_type": "code",
   "execution_count": 27,
   "metadata": {},
   "outputs": [],
   "source": [
    "from iexfinance import get_historical_data\n",
    "from datetime import datetime"
   ]
  },
  {
   "cell_type": "code",
   "execution_count": 28,
   "metadata": {},
   "outputs": [],
   "source": [
    "start = datetime(2013,1,1)\n",
    "end = datetime(2018,1,1)"
   ]
  },
  {
   "cell_type": "code",
   "execution_count": 29,
   "metadata": {},
   "outputs": [
    {
     "name": "stderr",
     "output_type": "stream",
     "text": [
      "C:\\ProgramData\\Anaconda3\\lib\\site-packages\\iexfinance\\__init__.py:57: UserWarning: get_historical_data is moved to iexfinance.stocks. This function will in be deprecated in v0.4.0\n",
      "  warnings.warn(WNG_MSG % (\"get_historical_data\", \"stocks\"))\n"
     ]
    }
   ],
   "source": [
    "Df = get_historical_data('TSLA', start=start, end=end, output_format='pandas')"
   ]
  },
  {
   "cell_type": "code",
   "execution_count": 32,
   "metadata": {},
   "outputs": [
    {
     "name": "stdout",
     "output_type": "stream",
     "text": [
      "(1020, 5)\n"
     ]
    },
    {
     "data": {
      "text/html": [
       "<div>\n",
       "<style scoped>\n",
       "    .dataframe tbody tr th:only-of-type {\n",
       "        vertical-align: middle;\n",
       "    }\n",
       "\n",
       "    .dataframe tbody tr th {\n",
       "        vertical-align: top;\n",
       "    }\n",
       "\n",
       "    .dataframe thead th {\n",
       "        text-align: right;\n",
       "    }\n",
       "</style>\n",
       "<table border=\"1\" class=\"dataframe\">\n",
       "  <thead>\n",
       "    <tr style=\"text-align: right;\">\n",
       "      <th></th>\n",
       "      <th>open</th>\n",
       "      <th>high</th>\n",
       "      <th>low</th>\n",
       "      <th>close</th>\n",
       "      <th>volume</th>\n",
       "    </tr>\n",
       "    <tr>\n",
       "      <th>date</th>\n",
       "      <th></th>\n",
       "      <th></th>\n",
       "      <th></th>\n",
       "      <th></th>\n",
       "      <th></th>\n",
       "    </tr>\n",
       "  </thead>\n",
       "  <tbody>\n",
       "    <tr>\n",
       "      <th>2013-12-12</th>\n",
       "      <td>139.70</td>\n",
       "      <td>148.24</td>\n",
       "      <td>138.5300</td>\n",
       "      <td>147.470</td>\n",
       "      <td>10767791</td>\n",
       "    </tr>\n",
       "    <tr>\n",
       "      <th>2013-12-13</th>\n",
       "      <td>148.05</td>\n",
       "      <td>151.80</td>\n",
       "      <td>147.3200</td>\n",
       "      <td>147.654</td>\n",
       "      <td>10599775</td>\n",
       "    </tr>\n",
       "    <tr>\n",
       "      <th>2013-12-16</th>\n",
       "      <td>148.48</td>\n",
       "      <td>150.43</td>\n",
       "      <td>146.1000</td>\n",
       "      <td>147.940</td>\n",
       "      <td>6675276</td>\n",
       "    </tr>\n",
       "    <tr>\n",
       "      <th>2013-12-17</th>\n",
       "      <td>147.58</td>\n",
       "      <td>154.63</td>\n",
       "      <td>146.3235</td>\n",
       "      <td>152.460</td>\n",
       "      <td>10494969</td>\n",
       "    </tr>\n",
       "    <tr>\n",
       "      <th>2013-12-18</th>\n",
       "      <td>152.24</td>\n",
       "      <td>154.90</td>\n",
       "      <td>145.9500</td>\n",
       "      <td>147.980</td>\n",
       "      <td>11581897</td>\n",
       "    </tr>\n",
       "  </tbody>\n",
       "</table>\n",
       "</div>"
      ],
      "text/plain": [
       "              open    high       low    close    volume\n",
       "date                                                   \n",
       "2013-12-12  139.70  148.24  138.5300  147.470  10767791\n",
       "2013-12-13  148.05  151.80  147.3200  147.654  10599775\n",
       "2013-12-16  148.48  150.43  146.1000  147.940   6675276\n",
       "2013-12-17  147.58  154.63  146.3235  152.460  10494969\n",
       "2013-12-18  152.24  154.90  145.9500  147.980  11581897"
      ]
     },
     "execution_count": 32,
     "metadata": {},
     "output_type": "execute_result"
    }
   ],
   "source": [
    "print (Df.shape)\n",
    "Df.head()"
   ]
  },
  {
   "cell_type": "code",
   "execution_count": 33,
   "metadata": {},
   "outputs": [],
   "source": [
    "Df = Df.rename(columns={'open':'Open'})"
   ]
  },
  {
   "cell_type": "code",
   "execution_count": 34,
   "metadata": {},
   "outputs": [
    {
     "data": {
      "text/plain": [
       "date\n",
       "2013-12-12         NaN\n",
       "2013-12-13    0.001248\n",
       "2013-12-16    0.001937\n",
       "2013-12-17    0.030553\n",
       "2013-12-18   -0.029385\n",
       "2013-12-19   -0.049061\n",
       "2013-12-20    0.017908\n",
       "2013-12-23    0.002164\n",
       "2013-12-24    0.054754\n",
       "2013-12-26    0.027013\n",
       "2013-12-27   -0.028167\n",
       "2013-12-30    0.008735\n",
       "2013-12-31   -0.013192\n",
       "2014-01-02   -0.002187\n",
       "2014-01-03   -0.003598\n",
       "2014-01-06   -0.017117\n",
       "2014-01-07    0.016054\n",
       "2014-01-08    0.012855\n",
       "2014-01-09   -0.024788\n",
       "2014-01-10   -0.012269\n",
       "2014-01-13   -0.043782\n",
       "2014-01-14    0.157385\n",
       "2014-01-15    0.017734\n",
       "2014-01-16    0.041674\n",
       "2014-01-17   -0.005615\n",
       "2014-01-21    0.039233\n",
       "2014-01-22    0.010641\n",
       "2014-01-23    0.016465\n",
       "2014-01-24   -0.038017\n",
       "2014-01-27   -0.028522\n",
       "                ...   \n",
       "2017-11-16    0.003855\n",
       "2017-11-17    0.008160\n",
       "2017-11-20   -0.020029\n",
       "2017-11-21    0.029377\n",
       "2017-11-22   -0.016393\n",
       "2017-11-24    0.009437\n",
       "2017-11-27    0.003993\n",
       "2017-11-28    0.002336\n",
       "2017-11-29   -0.031523\n",
       "2017-11-30    0.004260\n",
       "2017-12-01   -0.007512\n",
       "2017-12-04   -0.004339\n",
       "2017-12-05   -0.004915\n",
       "2017-12-06    0.031478\n",
       "2017-12-07   -0.006448\n",
       "2017-12-08    0.012498\n",
       "2017-12-11    0.043728\n",
       "2017-12-12    0.036849\n",
       "2017-12-13   -0.005865\n",
       "2017-12-14   -0.003363\n",
       "2017-12-15    0.016455\n",
       "2017-12-18   -0.013335\n",
       "2017-12-19   -0.022929\n",
       "2017-12-20   -0.006403\n",
       "2017-12-21    0.008146\n",
       "2017-12-22   -0.019478\n",
       "2017-12-26   -0.024323\n",
       "2017-12-27   -0.017807\n",
       "2017-12-28    0.011937\n",
       "2017-12-29   -0.012716\n",
       "Name: close, Length: 1020, dtype: float64"
      ]
     },
     "execution_count": 34,
     "metadata": {},
     "output_type": "execute_result"
    }
   ],
   "source": [
    "Df['close'].pct_change()"
   ]
  },
  {
   "cell_type": "code",
   "execution_count": 35,
   "metadata": {},
   "outputs": [],
   "source": [
    "import matplotlib.pyplot as plt"
   ]
  },
  {
   "cell_type": "code",
   "execution_count": 42,
   "metadata": {},
   "outputs": [
    {
     "data": {
      "image/png": "[encoded data removed]",
      "text/plain": [
       "<Figure size 1440x720 with 1 Axes>"
      ]
     },
     "metadata": {
      "needs_background": "light"
     },
     "output_type": "display_data"
    }
   ],
   "source": [
    "plt.figure(figsize=(20,10))\n",
    "plt.title(\"TSLA\")\n",
    "Df['close'].plot()\n",
    "Df['close'].rolling(50).mean().plot()\n",
    "Df['close'].rolling(100).mean().plot()\n",
    "plt.show()"
   ]
  },
  {
   "cell_type": "code",
   "execution_count": 45,
   "metadata": {},
   "outputs": [],
   "source": [
    "import FinanceDataReader as fdr"
   ]
  },
  {
   "cell_type": "code",
   "execution_count": 46,
   "metadata": {},
   "outputs": [],
   "source": [
    "krx = fdr.StockListing('KRX')"
   ]
  },
  {
   "cell_type": "code",
   "execution_count": 47,
   "metadata": {},
   "outputs": [
    {
     "data": {
      "text/html": [
       "<div>\n",
       "<style scoped>\n",
       "    .dataframe tbody tr th:only-of-type {\n",
       "        vertical-align: middle;\n",
       "    }\n",
       "\n",
       "    .dataframe tbody tr th {\n",
       "        vertical-align: top;\n",
       "    }\n",
       "\n",
       "    .dataframe thead th {\n",
       "        text-align: right;\n",
       "    }\n",
       "</style>\n",
       "<table border=\"1\" class=\"dataframe\">\n",
       "  <thead>\n",
       "    <tr style=\"text-align: right;\">\n",
       "      <th></th>\n",
       "      <th>Symbol</th>\n",
       "      <th>Name</th>\n",
       "      <th>Sector</th>\n",
       "      <th>Industry</th>\n",
       "    </tr>\n",
       "  </thead>\n",
       "  <tbody>\n",
       "    <tr>\n",
       "      <th>0</th>\n",
       "      <td>001040</td>\n",
       "      <td>CJ</td>\n",
       "      <td>기타 금융업</td>\n",
       "      <td>지주회사</td>\n",
       "    </tr>\n",
       "    <tr>\n",
       "      <th>1</th>\n",
       "      <td>011150</td>\n",
       "      <td>CJ씨푸드</td>\n",
       "      <td>기타 식품 제조업</td>\n",
       "      <td>수산물(어묵,맛살)가공품 도매,원양수산업,수출입</td>\n",
       "    </tr>\n",
       "    <tr>\n",
       "      <th>2</th>\n",
       "      <td>012630</td>\n",
       "      <td>HDC</td>\n",
       "      <td>건물 건설업</td>\n",
       "      <td>토목공사,건축공사,아파트분양사업,재개발/재건축사업</td>\n",
       "    </tr>\n",
       "    <tr>\n",
       "      <th>3</th>\n",
       "      <td>082740</td>\n",
       "      <td>HSD엔진</td>\n",
       "      <td>일반 목적용 기계 제조업</td>\n",
       "      <td>대형선박용엔진,내연발전엔진</td>\n",
       "    </tr>\n",
       "    <tr>\n",
       "      <th>4</th>\n",
       "      <td>001390</td>\n",
       "      <td>KG케미칼</td>\n",
       "      <td>기초 화학물질 제조업</td>\n",
       "      <td>콘크리트혼화제, 비료, 친환경농자재, 수처리제</td>\n",
       "    </tr>\n",
       "    <tr>\n",
       "      <th>5</th>\n",
       "      <td>010060</td>\n",
       "      <td>OCI</td>\n",
       "      <td>기초 화학물질 제조업</td>\n",
       "      <td>타르제품,카본블랙,무수프탈산,농약원제,석탄화학제품,정밀화학제품,플라스틱창호재 제조,판매</td>\n",
       "    </tr>\n",
       "    <tr>\n",
       "      <th>6</th>\n",
       "      <td>002360</td>\n",
       "      <td>SH에너지화학</td>\n",
       "      <td>기초 화학물질 제조업</td>\n",
       "      <td>합성수지(PS/EPS,ABS수지) 제조</td>\n",
       "    </tr>\n",
       "    <tr>\n",
       "      <th>7</th>\n",
       "      <td>001740</td>\n",
       "      <td>SK네트웍스</td>\n",
       "      <td>기타 전문 도매업</td>\n",
       "      <td>종합무역업(전자전기제품,섬유,에너지화학제품,철강금속제품),의류,수입산합판,MDF판매...</td>\n",
       "    </tr>\n",
       "    <tr>\n",
       "      <th>8</th>\n",
       "      <td>285130</td>\n",
       "      <td>SK케미칼</td>\n",
       "      <td>합성고무 및 플라스틱 물질 제조업</td>\n",
       "      <td>PETG 수지, PET 수지, 바이오디젤, 백신</td>\n",
       "    </tr>\n",
       "    <tr>\n",
       "      <th>9</th>\n",
       "      <td>011810</td>\n",
       "      <td>STX</td>\n",
       "      <td>상품 종합 도매업</td>\n",
       "      <td>에너지 원료(석탄,석유),산업기자재(기계부품) 도매</td>\n",
       "    </tr>\n",
       "    <tr>\n",
       "      <th>10</th>\n",
       "      <td>024070</td>\n",
       "      <td>WISCOM</td>\n",
       "      <td>플라스틱제품 제조업</td>\n",
       "      <td>플라스틱제품(PVC컴파운드,ABS,PS가공) 제조,도매,임가공</td>\n",
       "    </tr>\n",
       "    <tr>\n",
       "      <th>11</th>\n",
       "      <td>011420</td>\n",
       "      <td>갤럭시아에스엠</td>\n",
       "      <td>스포츠 서비스업</td>\n",
       "      <td>스포츠중계권,스포츠마케팅,광고</td>\n",
       "    </tr>\n",
       "    <tr>\n",
       "      <th>12</th>\n",
       "      <td>267290</td>\n",
       "      <td>경동도시가스</td>\n",
       "      <td>연료용 가스 제조 및 배관공급업</td>\n",
       "      <td>도시가스</td>\n",
       "    </tr>\n",
       "    <tr>\n",
       "      <th>13</th>\n",
       "      <td>002240</td>\n",
       "      <td>고려제강</td>\n",
       "      <td>1차 철강 제조업</td>\n",
       "      <td>PC강선,선재 2차제품,와이어로프,비드와이어,SC(Surpass Coat) Stan...</td>\n",
       "    </tr>\n",
       "    <tr>\n",
       "      <th>14</th>\n",
       "      <td>001290</td>\n",
       "      <td>골든브릿지증권</td>\n",
       "      <td>금융 지원 서비스업</td>\n",
       "      <td>유가증권 매매</td>\n",
       "    </tr>\n",
       "    <tr>\n",
       "      <th>15</th>\n",
       "      <td>014530</td>\n",
       "      <td>극동유화</td>\n",
       "      <td>석유 정제품 제조업</td>\n",
       "      <td>윤활유,유동파라핀,왁스,방수용시트,아스팔트 제조/수입자동차,부품 도매/가스충전,산업...</td>\n",
       "    </tr>\n",
       "    <tr>\n",
       "      <th>16</th>\n",
       "      <td>214330</td>\n",
       "      <td>금호에이치티</td>\n",
       "      <td>자동차 신품 부품 제조업</td>\n",
       "      <td>자동차용 전구 및 LED모듈</td>\n",
       "    </tr>\n",
       "    <tr>\n",
       "      <th>17</th>\n",
       "      <td>013700</td>\n",
       "      <td>까뮤이앤씨</td>\n",
       "      <td>건물 건설업</td>\n",
       "      <td>토목공사,건축공사/부동산 임대</td>\n",
       "    </tr>\n",
       "    <tr>\n",
       "      <th>18</th>\n",
       "      <td>090350</td>\n",
       "      <td>노루페인트</td>\n",
       "      <td>기타 화학제품 제조업</td>\n",
       "      <td>페인트 제조</td>\n",
       "    </tr>\n",
       "    <tr>\n",
       "      <th>19</th>\n",
       "      <td>004130</td>\n",
       "      <td>대덕GDS</td>\n",
       "      <td>전자부품 제조업</td>\n",
       "      <td>인쇄회로기판 제조,무역대리</td>\n",
       "    </tr>\n",
       "    <tr>\n",
       "      <th>20</th>\n",
       "      <td>004440</td>\n",
       "      <td>대림씨엔에스</td>\n",
       "      <td>시멘트, 석회, 플라스터 및 그 제품 제조업</td>\n",
       "      <td>PHC파일, 골재, 강교제작</td>\n",
       "    </tr>\n",
       "    <tr>\n",
       "      <th>21</th>\n",
       "      <td>014160</td>\n",
       "      <td>대영포장</td>\n",
       "      <td>골판지, 종이 상자 및 종이용기 제조업</td>\n",
       "      <td>골판지원단,골판지상자 제조</td>\n",
       "    </tr>\n",
       "    <tr>\n",
       "      <th>22</th>\n",
       "      <td>003220</td>\n",
       "      <td>대원제약</td>\n",
       "      <td>의약품 제조업</td>\n",
       "      <td>의약품(소화제,항생제,호흡기제,해열제,호르몬제) 제조,도매</td>\n",
       "    </tr>\n",
       "    <tr>\n",
       "      <th>23</th>\n",
       "      <td>002880</td>\n",
       "      <td>대유에이텍</td>\n",
       "      <td>자동차 신품 부품 제조업</td>\n",
       "      <td>자동차부품(자동차용 시트)제조</td>\n",
       "    </tr>\n",
       "    <tr>\n",
       "      <th>24</th>\n",
       "      <td>001620</td>\n",
       "      <td>동국실업</td>\n",
       "      <td>자동차 신품 부품 제조업</td>\n",
       "      <td>자동차부품(에어닥트,글로벌박스,노즐,어셈블리류,핸들류) 제조,판매/공장 임대</td>\n",
       "    </tr>\n",
       "    <tr>\n",
       "      <th>25</th>\n",
       "      <td>023450</td>\n",
       "      <td>동남합성</td>\n",
       "      <td>기초 화학물질 제조업</td>\n",
       "      <td>계면활성제,정밀화학품 제조,도매/부동산 임대</td>\n",
       "    </tr>\n",
       "    <tr>\n",
       "      <th>26</th>\n",
       "      <td>004140</td>\n",
       "      <td>동방</td>\n",
       "      <td>도로 화물 운송업</td>\n",
       "      <td>육상운송,해상운송,항만화물하역,보관,창고,물류사업</td>\n",
       "    </tr>\n",
       "    <tr>\n",
       "      <th>27</th>\n",
       "      <td>000640</td>\n",
       "      <td>동아쏘시오홀딩스</td>\n",
       "      <td>기타 금융업</td>\n",
       "      <td>의약품(피로회복제/박카스,병원용의약품),비의약품(의료기기,염모제,가글제) 제조,도소...</td>\n",
       "    </tr>\n",
       "    <tr>\n",
       "      <th>28</th>\n",
       "      <td>001520</td>\n",
       "      <td>동양</td>\n",
       "      <td>시멘트, 석회, 플라스터 및 그 제품 제조업</td>\n",
       "      <td>레미콘/건설공사/산업용 송풍기</td>\n",
       "    </tr>\n",
       "    <tr>\n",
       "      <th>29</th>\n",
       "      <td>000400</td>\n",
       "      <td>롯데손해보험</td>\n",
       "      <td>보험업</td>\n",
       "      <td>손해보험업</td>\n",
       "    </tr>\n",
       "    <tr>\n",
       "      <th>...</th>\n",
       "      <td>...</td>\n",
       "      <td>...</td>\n",
       "      <td>...</td>\n",
       "      <td>...</td>\n",
       "    </tr>\n",
       "    <tr>\n",
       "      <th>2215</th>\n",
       "      <td>126700</td>\n",
       "      <td>하이비젼시스템</td>\n",
       "      <td>사진장비 및 광학기기 제조업</td>\n",
       "      <td>카메라모듈 제조검사용 장비</td>\n",
       "    </tr>\n",
       "    <tr>\n",
       "      <th>2216</th>\n",
       "      <td>034950</td>\n",
       "      <td>한국기업평가</td>\n",
       "      <td>기타 사업지원 서비스업</td>\n",
       "      <td>신용평가, 컨설팅, 위험관리솔루션</td>\n",
       "    </tr>\n",
       "    <tr>\n",
       "      <th>2217</th>\n",
       "      <td>281410</td>\n",
       "      <td>한국제6호스팩</td>\n",
       "      <td>금융 지원 서비스업</td>\n",
       "      <td>기업인수합병</td>\n",
       "    </tr>\n",
       "    <tr>\n",
       "      <th>2218</th>\n",
       "      <td>052600</td>\n",
       "      <td>한네트</td>\n",
       "      <td>전기 통신업</td>\n",
       "      <td>현금서비스, 예금인출</td>\n",
       "    </tr>\n",
       "    <tr>\n",
       "      <th>2219</th>\n",
       "      <td>092460</td>\n",
       "      <td>한라IMS</td>\n",
       "      <td>선박 및 보트 건조업</td>\n",
       "      <td>선용원격자동측정시스템,선용원격자동경보시스템</td>\n",
       "    </tr>\n",
       "    <tr>\n",
       "      <th>2220</th>\n",
       "      <td>045100</td>\n",
       "      <td>한양이엔지</td>\n",
       "      <td>건축기술, 엔지니어링 및 관련 기술 서비스업</td>\n",
       "      <td>반도체배관설비</td>\n",
       "    </tr>\n",
       "    <tr>\n",
       "      <th>2221</th>\n",
       "      <td>265920</td>\n",
       "      <td>한화수성스팩</td>\n",
       "      <td>금융 지원 서비스업</td>\n",
       "      <td>기업인수합병</td>\n",
       "    </tr>\n",
       "    <tr>\n",
       "      <th>2222</th>\n",
       "      <td>115160</td>\n",
       "      <td>휴맥스</td>\n",
       "      <td>영상 및 음향기기 제조업</td>\n",
       "      <td>셋톱박스</td>\n",
       "    </tr>\n",
       "    <tr>\n",
       "      <th>2223</th>\n",
       "      <td>037440</td>\n",
       "      <td>희림</td>\n",
       "      <td>건축기술, 엔지니어링 및 관련 기술 서비스업</td>\n",
       "      <td>설계 및 감리용역</td>\n",
       "    </tr>\n",
       "    <tr>\n",
       "      <th>2224</th>\n",
       "      <td>288490</td>\n",
       "      <td>나라소프트</td>\n",
       "      <td>소프트웨어 개발 및 공급업</td>\n",
       "      <td>체육용솔루션(NS트루골프, NS테니스, NS축구, NS승마 등)</td>\n",
       "    </tr>\n",
       "    <tr>\n",
       "      <th>2225</th>\n",
       "      <td>086080</td>\n",
       "      <td>다이노나</td>\n",
       "      <td>자연과학 및 공학 연구개발업</td>\n",
       "      <td>항체치료제</td>\n",
       "    </tr>\n",
       "    <tr>\n",
       "      <th>2226</th>\n",
       "      <td>092590</td>\n",
       "      <td>럭스피아</td>\n",
       "      <td>반도체 제조업</td>\n",
       "      <td>LED 패키지, LED 모듈</td>\n",
       "    </tr>\n",
       "    <tr>\n",
       "      <th>2227</th>\n",
       "      <td>162120</td>\n",
       "      <td>루켄테크놀러지스</td>\n",
       "      <td>기타 전기장비 제조업</td>\n",
       "      <td>반도체 및 디스플레이 검사장비 및 검사부품</td>\n",
       "    </tr>\n",
       "    <tr>\n",
       "      <th>2228</th>\n",
       "      <td>236340</td>\n",
       "      <td>메디젠휴먼케어</td>\n",
       "      <td>자연과학 및 공학 연구개발업</td>\n",
       "      <td>M-CHECK (개인별 유전적 질병 예측 서비스)</td>\n",
       "    </tr>\n",
       "    <tr>\n",
       "      <th>2229</th>\n",
       "      <td>225850</td>\n",
       "      <td>미애부</td>\n",
       "      <td>생활용품 도매업</td>\n",
       "      <td>친환경, 무합성 발효화장품</td>\n",
       "    </tr>\n",
       "    <tr>\n",
       "      <th>2230</th>\n",
       "      <td>149010</td>\n",
       "      <td>아이케이세미콘</td>\n",
       "      <td>반도체 제조업</td>\n",
       "      <td>비메모리 반도체</td>\n",
       "    </tr>\n",
       "    <tr>\n",
       "      <th>2231</th>\n",
       "      <td>271400</td>\n",
       "      <td>알로이스</td>\n",
       "      <td>통신 및 방송 장비 제조업</td>\n",
       "      <td>위성 및 IPTV용 셋톱박스</td>\n",
       "    </tr>\n",
       "    <tr>\n",
       "      <th>2232</th>\n",
       "      <td>224810</td>\n",
       "      <td>엄지하우스</td>\n",
       "      <td>실내건축 및 건축마무리 공사업</td>\n",
       "      <td>실내건축업, 분양공사 및 디자인 설계</td>\n",
       "    </tr>\n",
       "    <tr>\n",
       "      <th>2233</th>\n",
       "      <td>270210</td>\n",
       "      <td>에스알바이오텍</td>\n",
       "      <td>기타 화학제품 제조업</td>\n",
       "      <td>화장품 제조 및 유통</td>\n",
       "    </tr>\n",
       "    <tr>\n",
       "      <th>2234</th>\n",
       "      <td>234070</td>\n",
       "      <td>에이원알폼</td>\n",
       "      <td>산업용 기계 및 장비 임대업</td>\n",
       "      <td>건설현장용 알루미늄 거푸집 임대</td>\n",
       "    </tr>\n",
       "    <tr>\n",
       "      <th>2235</th>\n",
       "      <td>262760</td>\n",
       "      <td>엔케이맥스</td>\n",
       "      <td>의약품 제조업</td>\n",
       "      <td>NK세포치료제</td>\n",
       "    </tr>\n",
       "    <tr>\n",
       "      <th>2236</th>\n",
       "      <td>183350</td>\n",
       "      <td>엘피케이</td>\n",
       "      <td>특수 목적용 기계 제조업</td>\n",
       "      <td>직교좌표로봇</td>\n",
       "    </tr>\n",
       "    <tr>\n",
       "      <th>2237</th>\n",
       "      <td>247300</td>\n",
       "      <td>인프라웨어테크놀러지</td>\n",
       "      <td>소프트웨어 개발 및 공급업</td>\n",
       "      <td>플랫폼, 보안솔루션</td>\n",
       "    </tr>\n",
       "    <tr>\n",
       "      <th>2238</th>\n",
       "      <td>250300</td>\n",
       "      <td>제이에스피브이</td>\n",
       "      <td>기타 전기장비 제조업</td>\n",
       "      <td>태양광모듈제조</td>\n",
       "    </tr>\n",
       "    <tr>\n",
       "      <th>2239</th>\n",
       "      <td>299480</td>\n",
       "      <td>지앤이헬스케어</td>\n",
       "      <td>기타 섬유제품 제조업</td>\n",
       "      <td>면생리대</td>\n",
       "    </tr>\n",
       "    <tr>\n",
       "      <th>2240</th>\n",
       "      <td>199800</td>\n",
       "      <td>툴젠</td>\n",
       "      <td>자연과학 및 공학 연구개발업</td>\n",
       "      <td>유전자가위 (유전체 교정 도구) 및 이를 이용한 유전자세포치료제, 고부가가치 가축,...</td>\n",
       "    </tr>\n",
       "    <tr>\n",
       "      <th>2241</th>\n",
       "      <td>228180</td>\n",
       "      <td>티씨엠생명과학</td>\n",
       "      <td>자연과학 및 공학 연구개발업</td>\n",
       "      <td>체외진단서비스 개발 및 진단 용역</td>\n",
       "    </tr>\n",
       "    <tr>\n",
       "      <th>2242</th>\n",
       "      <td>217880</td>\n",
       "      <td>틸론</td>\n",
       "      <td>소프트웨어 개발 및 공급업</td>\n",
       "      <td>Cloud Solution (D,A,E,Rstation)</td>\n",
       "    </tr>\n",
       "    <tr>\n",
       "      <th>2243</th>\n",
       "      <td>278990</td>\n",
       "      <td>파인이엠텍</td>\n",
       "      <td>그외 기타 제품 제조업</td>\n",
       "      <td>차량용 AVN, 휴대폰 액세서리</td>\n",
       "    </tr>\n",
       "    <tr>\n",
       "      <th>2244</th>\n",
       "      <td>202960</td>\n",
       "      <td>판도라티비</td>\n",
       "      <td>소프트웨어 개발 및 공급업</td>\n",
       "      <td>판도라TV, KM 플레이어</td>\n",
       "    </tr>\n",
       "  </tbody>\n",
       "</table>\n",
       "<p>2245 rows × 4 columns</p>\n",
       "</div>"
      ],
      "text/plain": [
       "      Symbol        Name                    Sector  \\\n",
       "0     001040          CJ                    기타 금융업   \n",
       "1     011150       CJ씨푸드                 기타 식품 제조업   \n",
       "2     012630         HDC                    건물 건설업   \n",
       "3     082740       HSD엔진             일반 목적용 기계 제조업   \n",
       "4     001390       KG케미칼               기초 화학물질 제조업   \n",
       "5     010060         OCI               기초 화학물질 제조업   \n",
       "6     002360     SH에너지화학               기초 화학물질 제조업   \n",
       "7     001740      SK네트웍스                 기타 전문 도매업   \n",
       "8     285130       SK케미칼        합성고무 및 플라스틱 물질 제조업   \n",
       "9     011810         STX                 상품 종합 도매업   \n",
       "10    024070      WISCOM                플라스틱제품 제조업   \n",
       "11    011420     갤럭시아에스엠                  스포츠 서비스업   \n",
       "12    267290      경동도시가스         연료용 가스 제조 및 배관공급업   \n",
       "13    002240        고려제강                 1차 철강 제조업   \n",
       "14    001290     골든브릿지증권                금융 지원 서비스업   \n",
       "15    014530        극동유화                석유 정제품 제조업   \n",
       "16    214330      금호에이치티             자동차 신품 부품 제조업   \n",
       "17    013700       까뮤이앤씨                    건물 건설업   \n",
       "18    090350       노루페인트               기타 화학제품 제조업   \n",
       "19    004130       대덕GDS                  전자부품 제조업   \n",
       "20    004440      대림씨엔에스  시멘트, 석회, 플라스터 및 그 제품 제조업   \n",
       "21    014160        대영포장     골판지, 종이 상자 및 종이용기 제조업   \n",
       "22    003220        대원제약                   의약품 제조업   \n",
       "23    002880       대유에이텍             자동차 신품 부품 제조업   \n",
       "24    001620        동국실업             자동차 신품 부품 제조업   \n",
       "25    023450        동남합성               기초 화학물질 제조업   \n",
       "26    004140          동방                 도로 화물 운송업   \n",
       "27    000640    동아쏘시오홀딩스                    기타 금융업   \n",
       "28    001520          동양  시멘트, 석회, 플라스터 및 그 제품 제조업   \n",
       "29    000400      롯데손해보험                       보험업   \n",
       "...      ...         ...                       ...   \n",
       "2215  126700     하이비젼시스템           사진장비 및 광학기기 제조업   \n",
       "2216  034950      한국기업평가              기타 사업지원 서비스업   \n",
       "2217  281410     한국제6호스팩                금융 지원 서비스업   \n",
       "2218  052600         한네트                    전기 통신업   \n",
       "2219  092460       한라IMS               선박 및 보트 건조업   \n",
       "2220  045100       한양이엔지  건축기술, 엔지니어링 및 관련 기술 서비스업   \n",
       "2221  265920      한화수성스팩                금융 지원 서비스업   \n",
       "2222  115160         휴맥스             영상 및 음향기기 제조업   \n",
       "2223  037440          희림  건축기술, 엔지니어링 및 관련 기술 서비스업   \n",
       "2224  288490       나라소프트            소프트웨어 개발 및 공급업   \n",
       "2225  086080        다이노나           자연과학 및 공학 연구개발업   \n",
       "2226  092590        럭스피아                   반도체 제조업   \n",
       "2227  162120    루켄테크놀러지스               기타 전기장비 제조업   \n",
       "2228  236340     메디젠휴먼케어           자연과학 및 공학 연구개발업   \n",
       "2229  225850         미애부                  생활용품 도매업   \n",
       "2230  149010     아이케이세미콘                   반도체 제조업   \n",
       "2231  271400        알로이스            통신 및 방송 장비 제조업   \n",
       "2232  224810       엄지하우스          실내건축 및 건축마무리 공사업   \n",
       "2233  270210     에스알바이오텍               기타 화학제품 제조업   \n",
       "2234  234070       에이원알폼           산업용 기계 및 장비 임대업   \n",
       "2235  262760       엔케이맥스                   의약품 제조업   \n",
       "2236  183350        엘피케이             특수 목적용 기계 제조업   \n",
       "2237  247300  인프라웨어테크놀러지            소프트웨어 개발 및 공급업   \n",
       "2238  250300     제이에스피브이               기타 전기장비 제조업   \n",
       "2239  299480     지앤이헬스케어               기타 섬유제품 제조업   \n",
       "2240  199800          툴젠           자연과학 및 공학 연구개발업   \n",
       "2241  228180     티씨엠생명과학           자연과학 및 공학 연구개발업   \n",
       "2242  217880          틸론            소프트웨어 개발 및 공급업   \n",
       "2243  278990       파인이엠텍              그외 기타 제품 제조업   \n",
       "2244  202960       판도라티비            소프트웨어 개발 및 공급업   \n",
       "\n",
       "                                               Industry  \n",
       "0                                                  지주회사  \n",
       "1                            수산물(어묵,맛살)가공품 도매,원양수산업,수출입  \n",
       "2                           토목공사,건축공사,아파트분양사업,재개발/재건축사업  \n",
       "3                                        대형선박용엔진,내연발전엔진  \n",
       "4                             콘크리트혼화제, 비료, 친환경농자재, 수처리제  \n",
       "5      타르제품,카본블랙,무수프탈산,농약원제,석탄화학제품,정밀화학제품,플라스틱창호재 제조,판매  \n",
       "6                                 합성수지(PS/EPS,ABS수지) 제조  \n",
       "7     종합무역업(전자전기제품,섬유,에너지화학제품,철강금속제품),의류,수입산합판,MDF판매...  \n",
       "8                            PETG 수지, PET 수지, 바이오디젤, 백신  \n",
       "9                          에너지 원료(석탄,석유),산업기자재(기계부품) 도매  \n",
       "10                   플라스틱제품(PVC컴파운드,ABS,PS가공) 제조,도매,임가공  \n",
       "11                                     스포츠중계권,스포츠마케팅,광고  \n",
       "12                                                 도시가스  \n",
       "13    PC강선,선재 2차제품,와이어로프,비드와이어,SC(Surpass Coat) Stan...  \n",
       "14                                              유가증권 매매  \n",
       "15    윤활유,유동파라핀,왁스,방수용시트,아스팔트 제조/수입자동차,부품 도매/가스충전,산업...  \n",
       "16                                      자동차용 전구 및 LED모듈  \n",
       "17                                     토목공사,건축공사/부동산 임대  \n",
       "18                                               페인트 제조  \n",
       "19                                       인쇄회로기판 제조,무역대리  \n",
       "20                                      PHC파일, 골재, 강교제작  \n",
       "21                                       골판지원단,골판지상자 제조  \n",
       "22                     의약품(소화제,항생제,호흡기제,해열제,호르몬제) 제조,도매  \n",
       "23                                     자동차부품(자동차용 시트)제조  \n",
       "24           자동차부품(에어닥트,글로벌박스,노즐,어셈블리류,핸들류) 제조,판매/공장 임대  \n",
       "25                             계면활성제,정밀화학품 제조,도매/부동산 임대  \n",
       "26                          육상운송,해상운송,항만화물하역,보관,창고,물류사업  \n",
       "27    의약품(피로회복제/박카스,병원용의약품),비의약품(의료기기,염모제,가글제) 제조,도소...  \n",
       "28                                     레미콘/건설공사/산업용 송풍기  \n",
       "29                                                손해보험업  \n",
       "...                                                 ...  \n",
       "2215                                     카메라모듈 제조검사용 장비  \n",
       "2216                                 신용평가, 컨설팅, 위험관리솔루션  \n",
       "2217                                             기업인수합병  \n",
       "2218                                        현금서비스, 예금인출  \n",
       "2219                            선용원격자동측정시스템,선용원격자동경보시스템  \n",
       "2220                                            반도체배관설비  \n",
       "2221                                             기업인수합병  \n",
       "2222                                               셋톱박스  \n",
       "2223                                          설계 및 감리용역  \n",
       "2224                체육용솔루션(NS트루골프, NS테니스, NS축구, NS승마 등)  \n",
       "2225                                              항체치료제  \n",
       "2226                                    LED 패키지, LED 모듈  \n",
       "2227                            반도체 및 디스플레이 검사장비 및 검사부품  \n",
       "2228                        M-CHECK (개인별 유전적 질병 예측 서비스)  \n",
       "2229                                     친환경, 무합성 발효화장품  \n",
       "2230                                           비메모리 반도체  \n",
       "2231                                    위성 및 IPTV용 셋톱박스  \n",
       "2232                               실내건축업, 분양공사 및 디자인 설계  \n",
       "2233                                        화장품 제조 및 유통  \n",
       "2234                                  건설현장용 알루미늄 거푸집 임대  \n",
       "2235                                            NK세포치료제  \n",
       "2236                                             직교좌표로봇  \n",
       "2237                                         플랫폼, 보안솔루션  \n",
       "2238                                            태양광모듈제조  \n",
       "2239                                               면생리대  \n",
       "2240  유전자가위 (유전체 교정 도구) 및 이를 이용한 유전자세포치료제, 고부가가치 가축,...  \n",
       "2241                                 체외진단서비스 개발 및 진단 용역  \n",
       "2242                    Cloud Solution (D,A,E,Rstation)  \n",
       "2243                                  차량용 AVN, 휴대폰 액세서리  \n",
       "2244                                     판도라TV, KM 플레이어  \n",
       "\n",
       "[2245 rows x 4 columns]"
      ]
     },
     "execution_count": 47,
     "metadata": {},
     "output_type": "execute_result"
    }
   ],
   "source": [
    "krx"
   ]
  },
  {
   "cell_type": "code",
   "execution_count": 53,
   "metadata": {},
   "outputs": [],
   "source": [
    "df = fdr.DataReader('KS11', '2016')"
   ]
  },
  {
   "cell_type": "code",
   "execution_count": 52,
   "metadata": {},
   "outputs": [
    {
     "data": {
      "text/html": [
       "<div>\n",
       "<style scoped>\n",
       "    .dataframe tbody tr th:only-of-type {\n",
       "        vertical-align: middle;\n",
       "    }\n",
       "\n",
       "    .dataframe tbody tr th {\n",
       "        vertical-align: top;\n",
       "    }\n",
       "\n",
       "    .dataframe thead th {\n",
       "        text-align: right;\n",
       "    }\n",
       "</style>\n",
       "<table border=\"1\" class=\"dataframe\">\n",
       "  <thead>\n",
       "    <tr style=\"text-align: right;\">\n",
       "      <th></th>\n",
       "      <th>Close</th>\n",
       "      <th>Open</th>\n",
       "      <th>High</th>\n",
       "      <th>Low</th>\n",
       "      <th>Volume</th>\n",
       "      <th>Change</th>\n",
       "    </tr>\n",
       "    <tr>\n",
       "      <th>Date</th>\n",
       "      <th></th>\n",
       "      <th></th>\n",
       "      <th></th>\n",
       "      <th></th>\n",
       "      <th></th>\n",
       "      <th></th>\n",
       "    </tr>\n",
       "  </thead>\n",
       "  <tbody>\n",
       "    <tr>\n",
       "      <th>2018-01-01</th>\n",
       "      <td>93500</td>\n",
       "      <td>93500</td>\n",
       "      <td>93500</td>\n",
       "      <td>93500</td>\n",
       "      <td>0.0</td>\n",
       "      <td>0.0000</td>\n",
       "    </tr>\n",
       "    <tr>\n",
       "      <th>2018-01-02</th>\n",
       "      <td>102500</td>\n",
       "      <td>95900</td>\n",
       "      <td>104000</td>\n",
       "      <td>93300</td>\n",
       "      <td>6760000.0</td>\n",
       "      <td>0.0963</td>\n",
       "    </tr>\n",
       "    <tr>\n",
       "      <th>2018-01-03</th>\n",
       "      <td>103000</td>\n",
       "      <td>102600</td>\n",
       "      <td>104900</td>\n",
       "      <td>99500</td>\n",
       "      <td>4720000.0</td>\n",
       "      <td>0.0049</td>\n",
       "    </tr>\n",
       "    <tr>\n",
       "      <th>2018-01-04</th>\n",
       "      <td>92200</td>\n",
       "      <td>102600</td>\n",
       "      <td>104000</td>\n",
       "      <td>92200</td>\n",
       "      <td>6390000.0</td>\n",
       "      <td>-0.1049</td>\n",
       "    </tr>\n",
       "    <tr>\n",
       "      <th>2018-01-05</th>\n",
       "      <td>100000</td>\n",
       "      <td>85800</td>\n",
       "      <td>101200</td>\n",
       "      <td>85700</td>\n",
       "      <td>8250000.0</td>\n",
       "      <td>0.0846</td>\n",
       "    </tr>\n",
       "  </tbody>\n",
       "</table>\n",
       "</div>"
      ],
      "text/plain": [
       "             Close    Open    High    Low     Volume  Change\n",
       "Date                                                        \n",
       "2018-01-01   93500   93500   93500  93500        0.0  0.0000\n",
       "2018-01-02  102500   95900  104000  93300  6760000.0  0.0963\n",
       "2018-01-03  103000  102600  104900  99500  4720000.0  0.0049\n",
       "2018-01-04   92200  102600  104000  92200  6390000.0 -0.1049\n",
       "2018-01-05  100000   85800  101200  85700  8250000.0  0.0846"
      ]
     },
     "execution_count": 52,
     "metadata": {},
     "output_type": "execute_result"
    }
   ],
   "source": [
    "df.head()"
   ]
  },
  {
   "cell_type": "code",
   "execution_count": 54,
   "metadata": {},
   "outputs": [
    {
     "data": {
      "text/plain": [
       "<matplotlib.axes._subplots.AxesSubplot at 0x97f8828>"
      ]
     },
     "execution_count": 54,
     "metadata": {},
     "output_type": "execute_result"
    },
    {
     "data": {
      "image/png": "[encoded data removed]",
      "text/plain": [
       "<Figure size 432x288 with 1 Axes>"
      ]
     },
     "metadata": {
      "needs_background": "light"
     },
     "output_type": "display_data"
    }
   ],
   "source": [
    "df['Close'].plot()"
   ]
  },
  {
   "cell_type": "code",
   "execution_count": null,
   "metadata": {},
   "outputs": [],
   "source": []
  }
 ],
 "metadata": {
  "kernelspec": {
   "display_name": "Python 3",
   "language": "python",
   "name": "python3"
  },
  "language_info": {
   "codemirror_mode": {
    "name": "ipython",
    "version": 3
   },
   "file_extension": ".py",
   "mimetype": "text/x-python",
   "name": "python",
   "nbconvert_exporter": "python",
   "pygments_lexer": "ipython3",
   "version": "3.7.0"
  }
 },
 "nbformat": 4,
 "nbformat_minor": 2
}
